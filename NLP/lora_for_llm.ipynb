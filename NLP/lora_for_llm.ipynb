{
 "cells": [
  {
   "cell_type": "code",
   "execution_count": 1,
   "metadata": {},
   "outputs": [
    {
     "name": "stderr",
     "output_type": "stream",
     "text": [
      "d:\\software\\anaconda\\envs\\global_env\\Lib\\site-packages\\tqdm\\auto.py:21: TqdmWarning: IProgress not found. Please update jupyter and ipywidgets. See https://ipywidgets.readthedocs.io/en/stable/user_install.html\n",
      "  from .autonotebook import tqdm as notebook_tqdm\n"
     ]
    }
   ],
   "source": [
    "import json\n",
    "import torch\n",
    "from peft import LoraConfig, TaskType, get_peft_model\n",
    "from collections import defaultdict\n",
    "from transformers import AutoModelForCausalLM, AutoTokenizer, Seq2SeqTrainer, Seq2SeqTrainingArguments, DataCollatorForLanguageModeling\n",
    "from datasets import load_dataset"
   ]
  },
  {
   "cell_type": "code",
   "execution_count": 2,
   "metadata": {},
   "outputs": [
    {
     "name": "stderr",
     "output_type": "stream",
     "text": [
      "Using the latest cached version of the module from D:\\huggingface_cache\\modules\\datasets_modules\\datasets\\qgyd2021--chinese_ner_sft\\1b63890294150e18e1ac6d195ef473c320e01768ba915925d7e4a291e7f3c92e (last modified on Mon Dec 30 22:58:03 2024) since it couldn't be found locally at qgyd2021/chinese_ner_sft, or remotely on the Hugging Face Hub.\n"
     ]
    },
    {
     "data": {
      "text/plain": [
       "DatasetDict({\n",
       "    train: Dataset({\n",
       "        features: ['text', 'entities', 'data_source'],\n",
       "        num_rows: 20000\n",
       "    })\n",
       "})"
      ]
     },
     "execution_count": 2,
     "metadata": {},
     "output_type": "execute_result"
    }
   ],
   "source": [
    "ds = load_dataset(\"qgyd2021/chinese_ner_sft\", \"CMeEE\", trust_remote_code=True) \n",
    "ds"
   ]
  },
  {
   "cell_type": "code",
   "execution_count": 3,
   "metadata": {},
   "outputs": [
    {
     "data": {
      "text/plain": [
       "DatasetDict({\n",
       "    train: Dataset({\n",
       "        features: ['text', 'entities', 'data_source'],\n",
       "        num_rows: 16000\n",
       "    })\n",
       "    test: Dataset({\n",
       "        features: ['text', 'entities', 'data_source'],\n",
       "        num_rows: 4000\n",
       "    })\n",
       "})"
      ]
     },
     "execution_count": 3,
     "metadata": {},
     "output_type": "execute_result"
    }
   ],
   "source": [
    "ds = ds[\"train\"].train_test_split(test_size=0.2, seed=42)\n",
    "ds"
   ]
  },
  {
   "cell_type": "code",
   "execution_count": 4,
   "metadata": {},
   "outputs": [
    {
     "data": {
      "text/plain": [
       "Dataset({\n",
       "    features: ['text', 'entities', 'data_source'],\n",
       "    num_rows: 3\n",
       "})"
      ]
     },
     "execution_count": 4,
     "metadata": {},
     "output_type": "execute_result"
    }
   ],
   "source": [
    "test_data = ds[\"train\"].select(range(3))\n",
    "test_data"
   ]
  },
  {
   "cell_type": "code",
   "execution_count": 5,
   "metadata": {},
   "outputs": [
    {
     "data": {
      "text/plain": [
       "{'text': '5.肾活体组织检查肾活体组织检查是确定HBV-GN的最终手段，是诊断HBV-GN的必备条件。',\n",
       " 'entities': {'start_idx': [2, 9, 19, 34],\n",
       "  'end_idx': [8, 15, 24, 39],\n",
       "  'entity_text': ['肾活体组织检查', '肾活体组织检查', 'HBV-GN', 'HBV-GN'],\n",
       "  'entity_label': ['pro', 'pro', 'dis', 'dis'],\n",
       "  'entity_names': [['医疗程序', '医疗过程'],\n",
       "   ['医疗程序', '医疗过程'],\n",
       "   ['疾病', '病名', '病症'],\n",
       "   ['疾病', '病名', '病症']]},\n",
       " 'data_source': 'CMeEE'}"
      ]
     },
     "execution_count": 5,
     "metadata": {},
     "output_type": "execute_result"
    }
   ],
   "source": [
    "test_data[0]"
   ]
  },
  {
   "cell_type": "code",
   "execution_count": 6,
   "metadata": {},
   "outputs": [],
   "source": [
    "checkpoint = \"Qwen/Qwen2.5-1.5B-Instruct\"\n",
    "model = AutoModelForCausalLM.from_pretrained(checkpoint, torch_dtype=torch.bfloat16)\n",
    "tokenizer = AutoTokenizer.from_pretrained(checkpoint)\n"
   ]
  },
  {
   "cell_type": "code",
   "execution_count": 7,
   "metadata": {},
   "outputs": [],
   "source": [
    "def process_dataset(example):\n",
    "    text_list = example[\"text\"]\n",
    "    entities_list = example[\"entities\"]\n",
    "    \n",
    "    input_ids_list = []\n",
    "    labels_list = []\n",
    "    for text, entities in zip(text_list, entities_list):\n",
    "        answer_dict = defaultdict(list)\n",
    "        entity_label = entities[\"entity_label\"]\n",
    "        entity_text = entities[\"entity_text\"]\n",
    "        for label_text, label_label in zip(entity_text, entity_label):\n",
    "            answer_dict[label_label].append(label_text)\n",
    "        answer_dict = json.dumps(answer_dict, ensure_ascii=False)\n",
    "        instruction = [\n",
    "            {\n",
    "                \"role\": \"user\",\n",
    "                \"content\": \"请你帮我提取里面的医学实体\" + \"\\n\" + text\n",
    "            },\n",
    "        ]\n",
    "        prompt = tokenizer.apply_chat_template(instruction, tokenize=False, add_generation_prompt=True)\n",
    "        input_ids = tokenizer(prompt)[\"input_ids\"]\n",
    "        labels = [-100] * len(input_ids)\n",
    "        answer_token = tokenizer(answer_dict)[\"input_ids\"]\n",
    "        answer_token.append(tokenizer.eos_token_id)\n",
    "        input_ids.extend(answer_token)\n",
    "        labels.extend(answer_token)\n",
    "        \n",
    "        # 算力有限 555 求赞助\n",
    "        if len(input_ids) > 1000:\n",
    "            continue\n",
    "        \n",
    "        input_ids_list.append(input_ids)\n",
    "        labels_list.append(labels)\n",
    "    \n",
    "    return {\"input_ids\": input_ids_list, \"labels\": labels_list}"
   ]
  },
  {
   "cell_type": "code",
   "execution_count": 8,
   "metadata": {},
   "outputs": [
    {
     "data": {
      "text/plain": [
       "DatasetDict({\n",
       "    train: Dataset({\n",
       "        features: ['input_ids', 'labels'],\n",
       "        num_rows: 15991\n",
       "    })\n",
       "    test: Dataset({\n",
       "        features: ['input_ids', 'labels'],\n",
       "        num_rows: 3999\n",
       "    })\n",
       "})"
      ]
     },
     "execution_count": 8,
     "metadata": {},
     "output_type": "execute_result"
    }
   ],
   "source": [
    "tokenized_ds = ds.map(process_dataset, batched=True, remove_columns=ds[\"train\"].column_names)\n",
    "tokenized_ds"
   ]
  },
  {
   "cell_type": "code",
   "execution_count": 9,
   "metadata": {},
   "outputs": [
    {
     "name": "stdout",
     "output_type": "stream",
     "text": [
      "[151644, 8948, 198, 2610, 525, 1207, 16948, 11, 3465, 553, 54364, 14817, 13, 1446, 525, 264, 10950, 17847, 13, 151645, 198, 151644, 872, 198, 112720, 108965, 107439, 107172, 104316, 101565, 198, 20, 13, 102512, 75606, 31914, 99877, 101071, 102512, 75606, 31914, 99877, 101071, 20412, 60610, 30725, 53, 12010, 45, 9370, 103941, 104085, 3837, 20412, 105262, 30725, 53, 12010, 45, 9370, 109457, 76095, 1773, 151645, 198, 151644, 77091, 198, 4913, 776, 788, 4383, 102512, 75606, 31914, 99877, 101071, 497, 330, 102512, 75606, 31914, 99877, 101071, 7914, 330, 4243, 788, 4383, 30725, 53, 12010, 45, 497, 330, 30725, 53, 12010, 45, 92446, 151645]\n",
      "[-100, -100, -100, -100, -100, -100, -100, -100, -100, -100, -100, -100, -100, -100, -100, -100, -100, -100, -100, -100, -100, -100, -100, -100, -100, -100, -100, -100, -100, -100, -100, -100, -100, -100, -100, -100, -100, -100, -100, -100, -100, -100, -100, -100, -100, -100, -100, -100, -100, -100, -100, -100, -100, -100, -100, -100, -100, -100, -100, -100, -100, -100, -100, -100, -100, -100, -100, -100, 4913, 776, 788, 4383, 102512, 75606, 31914, 99877, 101071, 497, 330, 102512, 75606, 31914, 99877, 101071, 7914, 330, 4243, 788, 4383, 30725, 53, 12010, 45, 497, 330, 30725, 53, 12010, 45, 92446, 151645]\n"
     ]
    }
   ],
   "source": [
    "train_data = tokenized_ds[\"train\"][0]\n",
    "print(train_data[\"input_ids\"])\n",
    "print(train_data[\"labels\"])"
   ]
  },
  {
   "cell_type": "code",
   "execution_count": 10,
   "metadata": {},
   "outputs": [
    {
     "data": {
      "text/plain": [
       "'<|im_start|>system\\nYou are Qwen, created by Alibaba Cloud. You are a helpful assistant.<|im_end|>\\n<|im_start|>user\\n请你帮我提取里面的医学实体\\n5.肾活体组织检查肾活体组织检查是确定HBV-GN的最终手段，是诊断HBV-GN的必备条件。<|im_end|>\\n<|im_start|>assistant\\n{\"pro\": [\"肾活体组织检查\", \"肾活体组织检查\"], \"dis\": [\"HBV-GN\", \"HBV-GN\"]}<|im_end|>'"
      ]
     },
     "execution_count": 10,
     "metadata": {},
     "output_type": "execute_result"
    }
   ],
   "source": [
    "tokenizer.decode(train_data[\"input_ids\"])"
   ]
  },
  {
   "cell_type": "code",
   "execution_count": 11,
   "metadata": {},
   "outputs": [
    {
     "name": "stdout",
     "output_type": "stream",
     "text": [
      "trainable params: 1,089,536 || all params: 1,544,803,840 || trainable%: 0.0705\n"
     ]
    }
   ],
   "source": [
    "peft_config = LoraConfig(task_type=TaskType.CAUSAL_LM)\n",
    "model = get_peft_model(model, peft_config)\n",
    "model.print_trainable_parameters()"
   ]
  },
  {
   "cell_type": "code",
   "execution_count": 12,
   "metadata": {},
   "outputs": [],
   "source": [
    "train_args = Seq2SeqTrainingArguments(\n",
    "    \"output/llm_result\",\n",
    "    per_device_train_batch_size=1, \n",
    "    gradient_accumulation_steps=4,\n",
    "    per_device_eval_batch_size=1,\n",
    "    logging_steps=20,\n",
    "    bf16=True,\n",
    "    eval_strategy=\"epoch\",\n",
    "    learning_rate=4e-5,\n",
    "    use_cpu=False,\n",
    "    lr_scheduler_type=\"cosine\"\n",
    ")\n",
    "trainer = Seq2SeqTrainer(\n",
    "                        model, \n",
    "                        args=train_args,\n",
    "                        train_dataset=tokenized_ds[\"train\"],\n",
    "                        eval_dataset=tokenized_ds[\"test\"],\n",
    "                        data_collator=DataCollatorForLanguageModeling(tokenizer, mlm=False),\n",
    "                        processing_class=tokenizer\n",
    "                        )"
   ]
  },
  {
   "cell_type": "code",
   "execution_count": 13,
   "metadata": {},
   "outputs": [
    {
     "data": {
      "text/html": [
       "\n",
       "    <div>\n",
       "      \n",
       "      <progress value='11991' max='11991' style='width:300px; height:20px; vertical-align: middle;'></progress>\n",
       "      [11991/11991 57:43, Epoch 2/3]\n",
       "    </div>\n",
       "    <table border=\"1\" class=\"dataframe\">\n",
       "  <thead>\n",
       " <tr style=\"text-align: left;\">\n",
       "      <th>Epoch</th>\n",
       "      <th>Training Loss</th>\n",
       "      <th>Validation Loss</th>\n",
       "    </tr>\n",
       "  </thead>\n",
       "  <tbody>\n",
       "    <tr>\n",
       "      <td>1</td>\n",
       "      <td>3.886200</td>\n",
       "      <td>0.999726</td>\n",
       "    </tr>\n",
       "    <tr>\n",
       "      <td>2</td>\n",
       "      <td>3.796700</td>\n",
       "      <td>0.983651</td>\n",
       "    </tr>\n",
       "  </tbody>\n",
       "</table><p>"
      ],
      "text/plain": [
       "<IPython.core.display.HTML object>"
      ]
     },
     "metadata": {},
     "output_type": "display_data"
    },
    {
     "name": "stderr",
     "output_type": "stream",
     "text": [
      "d:\\software\\anaconda\\envs\\global_env\\Lib\\site-packages\\peft\\utils\\other.py:716: UserWarning: Unable to fetch remote file due to the following error (MaxRetryError(\"HTTPSConnectionPool(host='huggingface.co', port=443): Max retries exceeded with url: /Qwen/Qwen2.5-1.5B-Instruct/resolve/main/config.json (Caused by ConnectTimeoutError(<urllib3.connection.HTTPSConnection object at 0x000002610DE2F1A0>, 'Connection to huggingface.co timed out. (connect timeout=10)'))\"), '(Request ID: 199055a8-8e6d-4934-b02c-ef2d9bb81010)') - silently ignoring the lookup for the file config.json in Qwen/Qwen2.5-1.5B-Instruct.\n",
      "  warnings.warn(\n",
      "d:\\software\\anaconda\\envs\\global_env\\Lib\\site-packages\\peft\\utils\\save_and_load.py:246: UserWarning: Could not find a config file in Qwen/Qwen2.5-1.5B-Instruct - will assume that the vocabulary was not modified.\n",
      "  warnings.warn(\n",
      "d:\\software\\anaconda\\envs\\global_env\\Lib\\site-packages\\peft\\utils\\other.py:716: UserWarning: Unable to fetch remote file due to the following error (MaxRetryError(\"HTTPSConnectionPool(host='huggingface.co', port=443): Max retries exceeded with url: /Qwen/Qwen2.5-1.5B-Instruct/resolve/main/config.json (Caused by ConnectTimeoutError(<urllib3.connection.HTTPSConnection object at 0x000002610EC2B860>, 'Connection to huggingface.co timed out. (connect timeout=10)'))\"), '(Request ID: eebfcba1-a0b8-484f-a959-c9361b00e6c6)') - silently ignoring the lookup for the file config.json in Qwen/Qwen2.5-1.5B-Instruct.\n",
      "  warnings.warn(\n",
      "d:\\software\\anaconda\\envs\\global_env\\Lib\\site-packages\\peft\\utils\\save_and_load.py:246: UserWarning: Could not find a config file in Qwen/Qwen2.5-1.5B-Instruct - will assume that the vocabulary was not modified.\n",
      "  warnings.warn(\n",
      "d:\\software\\anaconda\\envs\\global_env\\Lib\\site-packages\\peft\\utils\\other.py:716: UserWarning: Unable to fetch remote file due to the following error (MaxRetryError(\"HTTPSConnectionPool(host='huggingface.co', port=443): Max retries exceeded with url: /Qwen/Qwen2.5-1.5B-Instruct/resolve/main/config.json (Caused by ConnectTimeoutError(<urllib3.connection.HTTPSConnection object at 0x00000261758A7FB0>, 'Connection to huggingface.co timed out. (connect timeout=10)'))\"), '(Request ID: 4556b1a0-83d8-4ef4-bf43-eb4e5c8cf83c)') - silently ignoring the lookup for the file config.json in Qwen/Qwen2.5-1.5B-Instruct.\n",
      "  warnings.warn(\n",
      "d:\\software\\anaconda\\envs\\global_env\\Lib\\site-packages\\peft\\utils\\save_and_load.py:246: UserWarning: Could not find a config file in Qwen/Qwen2.5-1.5B-Instruct - will assume that the vocabulary was not modified.\n",
      "  warnings.warn(\n",
      "d:\\software\\anaconda\\envs\\global_env\\Lib\\site-packages\\peft\\utils\\other.py:716: UserWarning: Unable to fetch remote file due to the following error (MaxRetryError(\"HTTPSConnectionPool(host='huggingface.co', port=443): Max retries exceeded with url: /Qwen/Qwen2.5-1.5B-Instruct/resolve/main/config.json (Caused by ConnectTimeoutError(<urllib3.connection.HTTPSConnection object at 0x00000261758A6D50>, 'Connection to huggingface.co timed out. (connect timeout=10)'))\"), '(Request ID: 5e0b266c-3486-4bba-9411-1f726b0137cb)') - silently ignoring the lookup for the file config.json in Qwen/Qwen2.5-1.5B-Instruct.\n",
      "  warnings.warn(\n",
      "d:\\software\\anaconda\\envs\\global_env\\Lib\\site-packages\\peft\\utils\\save_and_load.py:246: UserWarning: Could not find a config file in Qwen/Qwen2.5-1.5B-Instruct - will assume that the vocabulary was not modified.\n",
      "  warnings.warn(\n",
      "d:\\software\\anaconda\\envs\\global_env\\Lib\\site-packages\\peft\\utils\\other.py:716: UserWarning: Unable to fetch remote file due to the following error (MaxRetryError(\"HTTPSConnectionPool(host='huggingface.co', port=443): Max retries exceeded with url: /Qwen/Qwen2.5-1.5B-Instruct/resolve/main/config.json (Caused by ConnectTimeoutError(<urllib3.connection.HTTPSConnection object at 0x000002617B94D1C0>, 'Connection to huggingface.co timed out. (connect timeout=10)'))\"), '(Request ID: 335ccda8-ba06-4e0c-8d0e-8351f0d71e7e)') - silently ignoring the lookup for the file config.json in Qwen/Qwen2.5-1.5B-Instruct.\n",
      "  warnings.warn(\n",
      "d:\\software\\anaconda\\envs\\global_env\\Lib\\site-packages\\peft\\utils\\save_and_load.py:246: UserWarning: Could not find a config file in Qwen/Qwen2.5-1.5B-Instruct - will assume that the vocabulary was not modified.\n",
      "  warnings.warn(\n",
      "d:\\software\\anaconda\\envs\\global_env\\Lib\\site-packages\\peft\\utils\\other.py:716: UserWarning: Unable to fetch remote file due to the following error (MaxRetryError(\"HTTPSConnectionPool(host='huggingface.co', port=443): Max retries exceeded with url: /Qwen/Qwen2.5-1.5B-Instruct/resolve/main/config.json (Caused by ConnectTimeoutError(<urllib3.connection.HTTPSConnection object at 0x000002610EC2B7A0>, 'Connection to huggingface.co timed out. (connect timeout=10)'))\"), '(Request ID: ed9a948c-c562-44ec-9e6d-a4995ecd6991)') - silently ignoring the lookup for the file config.json in Qwen/Qwen2.5-1.5B-Instruct.\n",
      "  warnings.warn(\n",
      "d:\\software\\anaconda\\envs\\global_env\\Lib\\site-packages\\peft\\utils\\save_and_load.py:246: UserWarning: Could not find a config file in Qwen/Qwen2.5-1.5B-Instruct - will assume that the vocabulary was not modified.\n",
      "  warnings.warn(\n",
      "d:\\software\\anaconda\\envs\\global_env\\Lib\\site-packages\\peft\\utils\\other.py:716: UserWarning: Unable to fetch remote file due to the following error (MaxRetryError(\"HTTPSConnectionPool(host='huggingface.co', port=443): Max retries exceeded with url: /Qwen/Qwen2.5-1.5B-Instruct/resolve/main/config.json (Caused by ConnectTimeoutError(<urllib3.connection.HTTPSConnection object at 0x000002610F35AAE0>, 'Connection to huggingface.co timed out. (connect timeout=10)'))\"), '(Request ID: bd1ef6fe-f91d-4af5-98da-d4e799a38d58)') - silently ignoring the lookup for the file config.json in Qwen/Qwen2.5-1.5B-Instruct.\n",
      "  warnings.warn(\n",
      "d:\\software\\anaconda\\envs\\global_env\\Lib\\site-packages\\peft\\utils\\save_and_load.py:246: UserWarning: Could not find a config file in Qwen/Qwen2.5-1.5B-Instruct - will assume that the vocabulary was not modified.\n",
      "  warnings.warn(\n",
      "d:\\software\\anaconda\\envs\\global_env\\Lib\\site-packages\\peft\\utils\\other.py:716: UserWarning: Unable to fetch remote file due to the following error (MaxRetryError(\"HTTPSConnectionPool(host='huggingface.co', port=443): Max retries exceeded with url: /Qwen/Qwen2.5-1.5B-Instruct/resolve/main/config.json (Caused by ConnectTimeoutError(<urllib3.connection.HTTPSConnection object at 0x0000026125CBD850>, 'Connection to huggingface.co timed out. (connect timeout=10)'))\"), '(Request ID: 3367c3d5-fad6-4951-9f4b-8cc4e578ff12)') - silently ignoring the lookup for the file config.json in Qwen/Qwen2.5-1.5B-Instruct.\n",
      "  warnings.warn(\n",
      "d:\\software\\anaconda\\envs\\global_env\\Lib\\site-packages\\peft\\utils\\save_and_load.py:246: UserWarning: Could not find a config file in Qwen/Qwen2.5-1.5B-Instruct - will assume that the vocabulary was not modified.\n",
      "  warnings.warn(\n",
      "d:\\software\\anaconda\\envs\\global_env\\Lib\\site-packages\\peft\\utils\\other.py:716: UserWarning: Unable to fetch remote file due to the following error (MaxRetryError(\"HTTPSConnectionPool(host='huggingface.co', port=443): Max retries exceeded with url: /Qwen/Qwen2.5-1.5B-Instruct/resolve/main/config.json (Caused by ConnectTimeoutError(<urllib3.connection.HTTPSConnection object at 0x0000026125CEBBC0>, 'Connection to huggingface.co timed out. (connect timeout=10)'))\"), '(Request ID: ada9eb91-a85e-47c9-bfa3-79c76a986ce6)') - silently ignoring the lookup for the file config.json in Qwen/Qwen2.5-1.5B-Instruct.\n",
      "  warnings.warn(\n",
      "d:\\software\\anaconda\\envs\\global_env\\Lib\\site-packages\\peft\\utils\\save_and_load.py:246: UserWarning: Could not find a config file in Qwen/Qwen2.5-1.5B-Instruct - will assume that the vocabulary was not modified.\n",
      "  warnings.warn(\n",
      "d:\\software\\anaconda\\envs\\global_env\\Lib\\site-packages\\peft\\utils\\other.py:716: UserWarning: Unable to fetch remote file due to the following error (MaxRetryError(\"HTTPSConnectionPool(host='huggingface.co', port=443): Max retries exceeded with url: /Qwen/Qwen2.5-1.5B-Instruct/resolve/main/config.json (Caused by ConnectTimeoutError(<urllib3.connection.HTTPSConnection object at 0x0000026125CE8500>, 'Connection to huggingface.co timed out. (connect timeout=10)'))\"), '(Request ID: 0b7525ee-6f17-4444-a889-7c2b812d6712)') - silently ignoring the lookup for the file config.json in Qwen/Qwen2.5-1.5B-Instruct.\n",
      "  warnings.warn(\n",
      "d:\\software\\anaconda\\envs\\global_env\\Lib\\site-packages\\peft\\utils\\save_and_load.py:246: UserWarning: Could not find a config file in Qwen/Qwen2.5-1.5B-Instruct - will assume that the vocabulary was not modified.\n",
      "  warnings.warn(\n",
      "d:\\software\\anaconda\\envs\\global_env\\Lib\\site-packages\\peft\\utils\\other.py:716: UserWarning: Unable to fetch remote file due to the following error (MaxRetryError(\"HTTPSConnectionPool(host='huggingface.co', port=443): Max retries exceeded with url: /Qwen/Qwen2.5-1.5B-Instruct/resolve/main/config.json (Caused by ConnectTimeoutError(<urllib3.connection.HTTPSConnection object at 0x0000026125CD11F0>, 'Connection to huggingface.co timed out. (connect timeout=10)'))\"), '(Request ID: b4287f98-4a89-42de-8a4a-cef634fc2781)') - silently ignoring the lookup for the file config.json in Qwen/Qwen2.5-1.5B-Instruct.\n",
      "  warnings.warn(\n",
      "d:\\software\\anaconda\\envs\\global_env\\Lib\\site-packages\\peft\\utils\\save_and_load.py:246: UserWarning: Could not find a config file in Qwen/Qwen2.5-1.5B-Instruct - will assume that the vocabulary was not modified.\n",
      "  warnings.warn(\n",
      "d:\\software\\anaconda\\envs\\global_env\\Lib\\site-packages\\peft\\utils\\other.py:716: UserWarning: Unable to fetch remote file due to the following error (MaxRetryError(\"HTTPSConnectionPool(host='huggingface.co', port=443): Max retries exceeded with url: /Qwen/Qwen2.5-1.5B-Instruct/resolve/main/config.json (Caused by ConnectTimeoutError(<urllib3.connection.HTTPSConnection object at 0x0000026105AE08C0>, 'Connection to huggingface.co timed out. (connect timeout=10)'))\"), '(Request ID: 3c7fa711-919a-44c8-bc98-4b249a093edb)') - silently ignoring the lookup for the file config.json in Qwen/Qwen2.5-1.5B-Instruct.\n",
      "  warnings.warn(\n",
      "d:\\software\\anaconda\\envs\\global_env\\Lib\\site-packages\\peft\\utils\\save_and_load.py:246: UserWarning: Could not find a config file in Qwen/Qwen2.5-1.5B-Instruct - will assume that the vocabulary was not modified.\n",
      "  warnings.warn(\n",
      "d:\\software\\anaconda\\envs\\global_env\\Lib\\site-packages\\peft\\utils\\other.py:716: UserWarning: Unable to fetch remote file due to the following error (MaxRetryError(\"HTTPSConnectionPool(host='huggingface.co', port=443): Max retries exceeded with url: /Qwen/Qwen2.5-1.5B-Instruct/resolve/main/config.json (Caused by ConnectTimeoutError(<urllib3.connection.HTTPSConnection object at 0x000002610F3598B0>, 'Connection to huggingface.co timed out. (connect timeout=10)'))\"), '(Request ID: 88074c6b-ed3c-48a7-aa44-44ab8562d470)') - silently ignoring the lookup for the file config.json in Qwen/Qwen2.5-1.5B-Instruct.\n",
      "  warnings.warn(\n",
      "d:\\software\\anaconda\\envs\\global_env\\Lib\\site-packages\\peft\\utils\\save_and_load.py:246: UserWarning: Could not find a config file in Qwen/Qwen2.5-1.5B-Instruct - will assume that the vocabulary was not modified.\n",
      "  warnings.warn(\n",
      "d:\\software\\anaconda\\envs\\global_env\\Lib\\site-packages\\peft\\utils\\other.py:716: UserWarning: Unable to fetch remote file due to the following error (MaxRetryError(\"HTTPSConnectionPool(host='huggingface.co', port=443): Max retries exceeded with url: /Qwen/Qwen2.5-1.5B-Instruct/resolve/main/config.json (Caused by ConnectTimeoutError(<urllib3.connection.HTTPSConnection object at 0x00000261758D57F0>, 'Connection to huggingface.co timed out. (connect timeout=10)'))\"), '(Request ID: 25f7356d-37c4-4dd5-8ef8-26ee44b7dc91)') - silently ignoring the lookup for the file config.json in Qwen/Qwen2.5-1.5B-Instruct.\n",
      "  warnings.warn(\n",
      "d:\\software\\anaconda\\envs\\global_env\\Lib\\site-packages\\peft\\utils\\save_and_load.py:246: UserWarning: Could not find a config file in Qwen/Qwen2.5-1.5B-Instruct - will assume that the vocabulary was not modified.\n",
      "  warnings.warn(\n",
      "d:\\software\\anaconda\\envs\\global_env\\Lib\\site-packages\\peft\\utils\\other.py:716: UserWarning: Unable to fetch remote file due to the following error (MaxRetryError(\"HTTPSConnectionPool(host='huggingface.co', port=443): Max retries exceeded with url: /Qwen/Qwen2.5-1.5B-Instruct/resolve/main/config.json (Caused by ConnectTimeoutError(<urllib3.connection.HTTPSConnection object at 0x0000026125CD2630>, 'Connection to huggingface.co timed out. (connect timeout=10)'))\"), '(Request ID: 6344eadc-0973-430c-ada0-5b9a96ccf2b8)') - silently ignoring the lookup for the file config.json in Qwen/Qwen2.5-1.5B-Instruct.\n",
      "  warnings.warn(\n",
      "d:\\software\\anaconda\\envs\\global_env\\Lib\\site-packages\\peft\\utils\\save_and_load.py:246: UserWarning: Could not find a config file in Qwen/Qwen2.5-1.5B-Instruct - will assume that the vocabulary was not modified.\n",
      "  warnings.warn(\n",
      "d:\\software\\anaconda\\envs\\global_env\\Lib\\site-packages\\peft\\utils\\other.py:716: UserWarning: Unable to fetch remote file due to the following error (MaxRetryError(\"HTTPSConnectionPool(host='huggingface.co', port=443): Max retries exceeded with url: /Qwen/Qwen2.5-1.5B-Instruct/resolve/main/config.json (Caused by ConnectTimeoutError(<urllib3.connection.HTTPSConnection object at 0x00000261758A7FE0>, 'Connection to huggingface.co timed out. (connect timeout=10)'))\"), '(Request ID: f05a4a22-1997-49d8-bd42-27dafb0a0542)') - silently ignoring the lookup for the file config.json in Qwen/Qwen2.5-1.5B-Instruct.\n",
      "  warnings.warn(\n",
      "d:\\software\\anaconda\\envs\\global_env\\Lib\\site-packages\\peft\\utils\\save_and_load.py:246: UserWarning: Could not find a config file in Qwen/Qwen2.5-1.5B-Instruct - will assume that the vocabulary was not modified.\n",
      "  warnings.warn(\n",
      "d:\\software\\anaconda\\envs\\global_env\\Lib\\site-packages\\peft\\utils\\other.py:716: UserWarning: Unable to fetch remote file due to the following error (MaxRetryError(\"HTTPSConnectionPool(host='huggingface.co', port=443): Max retries exceeded with url: /Qwen/Qwen2.5-1.5B-Instruct/resolve/main/config.json (Caused by ConnectTimeoutError(<urllib3.connection.HTTPSConnection object at 0x0000026105A5E780>, 'Connection to huggingface.co timed out. (connect timeout=10)'))\"), '(Request ID: 00779f28-d9e3-432a-b3e2-be0e13ce9d17)') - silently ignoring the lookup for the file config.json in Qwen/Qwen2.5-1.5B-Instruct.\n",
      "  warnings.warn(\n",
      "d:\\software\\anaconda\\envs\\global_env\\Lib\\site-packages\\peft\\utils\\save_and_load.py:246: UserWarning: Could not find a config file in Qwen/Qwen2.5-1.5B-Instruct - will assume that the vocabulary was not modified.\n",
      "  warnings.warn(\n",
      "d:\\software\\anaconda\\envs\\global_env\\Lib\\site-packages\\peft\\utils\\other.py:716: UserWarning: Unable to fetch remote file due to the following error (MaxRetryError(\"HTTPSConnectionPool(host='huggingface.co', port=443): Max retries exceeded with url: /Qwen/Qwen2.5-1.5B-Instruct/resolve/main/config.json (Caused by ConnectTimeoutError(<urllib3.connection.HTTPSConnection object at 0x00000261758CF0E0>, 'Connection to huggingface.co timed out. (connect timeout=10)'))\"), '(Request ID: a7e344d1-88e8-4e67-9d13-018db11523b6)') - silently ignoring the lookup for the file config.json in Qwen/Qwen2.5-1.5B-Instruct.\n",
      "  warnings.warn(\n",
      "d:\\software\\anaconda\\envs\\global_env\\Lib\\site-packages\\peft\\utils\\save_and_load.py:246: UserWarning: Could not find a config file in Qwen/Qwen2.5-1.5B-Instruct - will assume that the vocabulary was not modified.\n",
      "  warnings.warn(\n",
      "d:\\software\\anaconda\\envs\\global_env\\Lib\\site-packages\\peft\\utils\\other.py:716: UserWarning: Unable to fetch remote file due to the following error (MaxRetryError(\"HTTPSConnectionPool(host='huggingface.co', port=443): Max retries exceeded with url: /Qwen/Qwen2.5-1.5B-Instruct/resolve/main/config.json (Caused by ConnectTimeoutError(<urllib3.connection.HTTPSConnection object at 0x00000261758CF440>, 'Connection to huggingface.co timed out. (connect timeout=10)'))\"), '(Request ID: ed221178-ad7a-4e7c-bd36-ac994f688796)') - silently ignoring the lookup for the file config.json in Qwen/Qwen2.5-1.5B-Instruct.\n",
      "  warnings.warn(\n",
      "d:\\software\\anaconda\\envs\\global_env\\Lib\\site-packages\\peft\\utils\\save_and_load.py:246: UserWarning: Could not find a config file in Qwen/Qwen2.5-1.5B-Instruct - will assume that the vocabulary was not modified.\n",
      "  warnings.warn(\n",
      "d:\\software\\anaconda\\envs\\global_env\\Lib\\site-packages\\peft\\utils\\other.py:716: UserWarning: Unable to fetch remote file due to the following error (MaxRetryError(\"HTTPSConnectionPool(host='huggingface.co', port=443): Max retries exceeded with url: /Qwen/Qwen2.5-1.5B-Instruct/resolve/main/config.json (Caused by ConnectTimeoutError(<urllib3.connection.HTTPSConnection object at 0x0000026125CD2CC0>, 'Connection to huggingface.co timed out. (connect timeout=10)'))\"), '(Request ID: a0add6e6-4e52-4ca8-8f48-316817f70a85)') - silently ignoring the lookup for the file config.json in Qwen/Qwen2.5-1.5B-Instruct.\n",
      "  warnings.warn(\n",
      "d:\\software\\anaconda\\envs\\global_env\\Lib\\site-packages\\peft\\utils\\save_and_load.py:246: UserWarning: Could not find a config file in Qwen/Qwen2.5-1.5B-Instruct - will assume that the vocabulary was not modified.\n",
      "  warnings.warn(\n",
      "d:\\software\\anaconda\\envs\\global_env\\Lib\\site-packages\\peft\\utils\\other.py:716: UserWarning: Unable to fetch remote file due to the following error (MaxRetryError(\"HTTPSConnectionPool(host='huggingface.co', port=443): Max retries exceeded with url: /Qwen/Qwen2.5-1.5B-Instruct/resolve/main/config.json (Caused by ConnectTimeoutError(<urllib3.connection.HTTPSConnection object at 0x00000261758D6960>, 'Connection to huggingface.co timed out. (connect timeout=10)'))\"), '(Request ID: 6a208491-7821-4b78-8d9c-ca24bd775cee)') - silently ignoring the lookup for the file config.json in Qwen/Qwen2.5-1.5B-Instruct.\n",
      "  warnings.warn(\n",
      "d:\\software\\anaconda\\envs\\global_env\\Lib\\site-packages\\peft\\utils\\save_and_load.py:246: UserWarning: Could not find a config file in Qwen/Qwen2.5-1.5B-Instruct - will assume that the vocabulary was not modified.\n",
      "  warnings.warn(\n",
      "d:\\software\\anaconda\\envs\\global_env\\Lib\\site-packages\\peft\\utils\\other.py:716: UserWarning: Unable to fetch remote file due to the following error (MaxRetryError(\"HTTPSConnectionPool(host='huggingface.co', port=443): Max retries exceeded with url: /Qwen/Qwen2.5-1.5B-Instruct/resolve/main/config.json (Caused by ConnectTimeoutError(<urllib3.connection.HTTPSConnection object at 0x000002610F35ACF0>, 'Connection to huggingface.co timed out. (connect timeout=10)'))\"), '(Request ID: 445d6396-1ed2-4708-b4bf-5355102f7117)') - silently ignoring the lookup for the file config.json in Qwen/Qwen2.5-1.5B-Instruct.\n",
      "  warnings.warn(\n",
      "d:\\software\\anaconda\\envs\\global_env\\Lib\\site-packages\\peft\\utils\\save_and_load.py:246: UserWarning: Could not find a config file in Qwen/Qwen2.5-1.5B-Instruct - will assume that the vocabulary was not modified.\n",
      "  warnings.warn(\n",
      "d:\\software\\anaconda\\envs\\global_env\\Lib\\site-packages\\peft\\utils\\other.py:716: UserWarning: Unable to fetch remote file due to the following error (MaxRetryError(\"HTTPSConnectionPool(host='huggingface.co', port=443): Max retries exceeded with url: /Qwen/Qwen2.5-1.5B-Instruct/resolve/main/config.json (Caused by ConnectTimeoutError(<urllib3.connection.HTTPSConnection object at 0x0000026105AE1700>, 'Connection to huggingface.co timed out. (connect timeout=10)'))\"), '(Request ID: c9bccb4b-682d-43a7-9bc9-c84f3c27820e)') - silently ignoring the lookup for the file config.json in Qwen/Qwen2.5-1.5B-Instruct.\n",
      "  warnings.warn(\n",
      "d:\\software\\anaconda\\envs\\global_env\\Lib\\site-packages\\peft\\utils\\save_and_load.py:246: UserWarning: Could not find a config file in Qwen/Qwen2.5-1.5B-Instruct - will assume that the vocabulary was not modified.\n",
      "  warnings.warn(\n",
      "d:\\software\\anaconda\\envs\\global_env\\Lib\\site-packages\\peft\\utils\\other.py:716: UserWarning: Unable to fetch remote file due to the following error (MaxRetryError(\"HTTPSConnectionPool(host='huggingface.co', port=443): Max retries exceeded with url: /Qwen/Qwen2.5-1.5B-Instruct/resolve/main/config.json (Caused by ConnectTimeoutError(<urllib3.connection.HTTPSConnection object at 0x00000261758D5370>, 'Connection to huggingface.co timed out. (connect timeout=10)'))\"), '(Request ID: be5299dc-68c8-44fc-8268-f90657bd7dbf)') - silently ignoring the lookup for the file config.json in Qwen/Qwen2.5-1.5B-Instruct.\n",
      "  warnings.warn(\n",
      "d:\\software\\anaconda\\envs\\global_env\\Lib\\site-packages\\peft\\utils\\save_and_load.py:246: UserWarning: Could not find a config file in Qwen/Qwen2.5-1.5B-Instruct - will assume that the vocabulary was not modified.\n",
      "  warnings.warn(\n"
     ]
    },
    {
     "data": {
      "text/plain": [
       "TrainOutput(global_step=11991, training_loss=4.0564709191683805, metrics={'train_runtime': 3464.4969, 'train_samples_per_second': 13.847, 'train_steps_per_second': 3.461, 'total_flos': 4.272920317488845e+16, 'train_loss': 4.0564709191683805, 'epoch': 2.9993121130635982})"
      ]
     },
     "execution_count": 13,
     "metadata": {},
     "output_type": "execute_result"
    }
   ],
   "source": [
    "trainer.train()"
   ]
  },
  {
   "cell_type": "code",
   "execution_count": null,
   "metadata": {},
   "outputs": [],
   "source": []
  },
  {
   "cell_type": "code",
   "execution_count": 51,
   "metadata": {},
   "outputs": [],
   "source": [
    "import random\n",
    "from peft import PeftModel, PeftConfig\n",
    "from transformers import pipeline\n",
    "from transformers import AutoModelForCausalLM, AutoTokenizer\n",
    "from datasets import load_dataset"
   ]
  },
  {
   "cell_type": "code",
   "execution_count": 9,
   "metadata": {},
   "outputs": [],
   "source": [
    "# 从保存点载入, 为了方便从头运行到末尾， 这里注释掉\n",
    "\n",
    "# checkpoint = \"Qwen/Qwen2.5-1.5B-Instruct\"\n",
    "# save_dir = \"output/llm_result/checkpoint-11967\"\n",
    "\n",
    "# # peft_config = PeftConfig.from_pretrained(save_dir)\n",
    "# model = AutoModelForCausalLM.from_pretrained(checkpoint)\n",
    "# tokenizer = AutoTokenizer.from_pretrained(checkpoint)\n",
    "\n",
    "# peft_model = PeftModel.from_pretrained(model, save_dir)"
   ]
  },
  {
   "cell_type": "code",
   "execution_count": 16,
   "metadata": {},
   "outputs": [
    {
     "name": "stderr",
     "output_type": "stream",
     "text": [
      "Device set to use cuda:0\n",
      "The model 'PeftModelForCausalLM' is not supported for text-generation. Supported models are ['AriaTextForCausalLM', 'BambaForCausalLM', 'BartForCausalLM', 'BertLMHeadModel', 'BertGenerationDecoder', 'BigBirdForCausalLM', 'BigBirdPegasusForCausalLM', 'BioGptForCausalLM', 'BlenderbotForCausalLM', 'BlenderbotSmallForCausalLM', 'BloomForCausalLM', 'CamembertForCausalLM', 'LlamaForCausalLM', 'CodeGenForCausalLM', 'CohereForCausalLM', 'Cohere2ForCausalLM', 'CpmAntForCausalLM', 'CTRLLMHeadModel', 'Data2VecTextForCausalLM', 'DbrxForCausalLM', 'DiffLlamaForCausalLM', 'ElectraForCausalLM', 'Emu3ForCausalLM', 'ErnieForCausalLM', 'FalconForCausalLM', 'FalconMambaForCausalLM', 'FuyuForCausalLM', 'GemmaForCausalLM', 'Gemma2ForCausalLM', 'GitForCausalLM', 'GlmForCausalLM', 'GPT2LMHeadModel', 'GPT2LMHeadModel', 'GPTBigCodeForCausalLM', 'GPTNeoForCausalLM', 'GPTNeoXForCausalLM', 'GPTNeoXJapaneseForCausalLM', 'GPTJForCausalLM', 'GraniteForCausalLM', 'GraniteMoeForCausalLM', 'JambaForCausalLM', 'JetMoeForCausalLM', 'LlamaForCausalLM', 'MambaForCausalLM', 'Mamba2ForCausalLM', 'MarianForCausalLM', 'MBartForCausalLM', 'MegaForCausalLM', 'MegatronBertForCausalLM', 'MistralForCausalLM', 'MixtralForCausalLM', 'MllamaForCausalLM', 'MoshiForCausalLM', 'MptForCausalLM', 'MusicgenForCausalLM', 'MusicgenMelodyForCausalLM', 'MvpForCausalLM', 'NemotronForCausalLM', 'OlmoForCausalLM', 'Olmo2ForCausalLM', 'OlmoeForCausalLM', 'OpenLlamaForCausalLM', 'OpenAIGPTLMHeadModel', 'OPTForCausalLM', 'PegasusForCausalLM', 'PersimmonForCausalLM', 'PhiForCausalLM', 'Phi3ForCausalLM', 'PhimoeForCausalLM', 'PLBartForCausalLM', 'ProphetNetForCausalLM', 'QDQBertLMHeadModel', 'Qwen2ForCausalLM', 'Qwen2MoeForCausalLM', 'RecurrentGemmaForCausalLM', 'ReformerModelWithLMHead', 'RemBertForCausalLM', 'RobertaForCausalLM', 'RobertaPreLayerNormForCausalLM', 'RoCBertForCausalLM', 'RoFormerForCausalLM', 'RwkvForCausalLM', 'Speech2Text2ForCausalLM', 'StableLmForCausalLM', 'Starcoder2ForCausalLM', 'TransfoXLLMHeadModel', 'TrOCRForCausalLM', 'WhisperForCausalLM', 'XGLMForCausalLM', 'XLMWithLMHeadModel', 'XLMProphetNetForCausalLM', 'XLMRobertaForCausalLM', 'XLMRobertaXLForCausalLM', 'XLNetLMHeadModel', 'XmodForCausalLM', 'ZambaForCausalLM'].\n"
     ]
    },
    {
     "data": {
      "text/plain": [
       "<transformers.pipelines.text_generation.TextGenerationPipeline at 0x261758e5af0>"
      ]
     },
     "execution_count": 16,
     "metadata": {},
     "output_type": "execute_result"
    }
   ],
   "source": [
    "pipe = pipeline(task=\"text-generation\", model=model, tokenizer=tokenizer)\n",
    "pipe"
   ]
  },
  {
   "cell_type": "code",
   "execution_count": 54,
   "metadata": {},
   "outputs": [
    {
     "data": {
      "text/plain": [
       "'{\"dru\": [\"艾滋病疫苗\", \"HIV疫苗\"], \"dis\": [\"艾滋病\", \"乙肝\"], \"pro\": [\"注射\"]}'"
      ]
     },
     "execution_count": 54,
     "metadata": {},
     "output_type": "execute_result"
    }
   ],
   "source": [
    "# 网络搜索\n",
    "text = \"艾滋病疫苗，即艾滋病病毒（HIV）疫苗，注射了它便可以在一段时间内防止艾滋病（类似乙肝疫苗的原理）。HIV疫苗被认为是预防艾滋病的最有效工具\"\n",
    "\n",
    "messages = [\n",
    "    {\n",
    "        \"role\": \"user\",\n",
    "        \"content\": \"请你帮我提取里面的医学实体\" + \"\\n\" + text\n",
    "    }\n",
    "]\n",
    "\n",
    "inputs = tokenizer.apply_chat_template(messages, tokenize=False, add_generation_prompt=True)\n",
    "result = pipe(messages, max_new_tokens=1000, do_sample=False)\n",
    "result[0][\"generated_text\"][-1][\"content\"]"
   ]
  },
  {
   "cell_type": "code",
   "execution_count": 52,
   "metadata": {},
   "outputs": [
    {
     "name": "stderr",
     "output_type": "stream",
     "text": [
      "d:\\software\\anaconda\\envs\\global_env\\Lib\\site-packages\\transformers\\generation\\configuration_utils.py:628: UserWarning: `do_sample` is set to `False`. However, `temperature` is set to `0.7` -- this flag is only used in sample-based generation modes. You should set `do_sample=True` or unset `temperature`.\n",
      "  warnings.warn(\n",
      "d:\\software\\anaconda\\envs\\global_env\\Lib\\site-packages\\transformers\\generation\\configuration_utils.py:633: UserWarning: `do_sample` is set to `False`. However, `top_p` is set to `0.8` -- this flag is only used in sample-based generation modes. You should set `do_sample=True` or unset `top_p`.\n",
      "  warnings.warn(\n",
      "d:\\software\\anaconda\\envs\\global_env\\Lib\\site-packages\\transformers\\generation\\configuration_utils.py:650: UserWarning: `do_sample` is set to `False`. However, `top_k` is set to `20` -- this flag is only used in sample-based generation modes. You should set `do_sample=True` or unset `top_k`.\n",
      "  warnings.warn(\n"
     ]
    },
    {
     "name": "stdout",
     "output_type": "stream",
     "text": [
      "{\"dis\": [\"流感\"]}\n",
      "['流感']\n"
     ]
    }
   ],
   "source": [
    "index = random.randint(0, len(ds[\"test\"]))\n",
    "text = ds[\"test\"][index][\"text\"]\n",
    "answer = ds[\"test\"][index][\"entities\"][\"entity_text\"]\n",
    "messages = [\n",
    "    {\n",
    "        \"role\": \"user\",\n",
    "        \"content\": \"请你帮我提取里面的医学实体\" + \"\\n\" + text\n",
    "    }\n",
    "]\n",
    "\n",
    "inputs = tokenizer.apply_chat_template(messages, tokenize=False, add_generation_prompt=True)\n",
    "result = pipe(messages, max_new_tokens=1000, do_sample=False)\n",
    "print(result[0][\"generated_text\"][-1][\"content\"])\n",
    "print(answer)"
   ]
  },
  {
   "cell_type": "code",
   "execution_count": 53,
   "metadata": {},
   "outputs": [
    {
     "name": "stdout",
     "output_type": "stream",
     "text": [
      "{\"bod\": [\"细胞外区\", \"血浆\"], \"sym\": [\"蛋白水解片段\", \"循环于血浆中\"]}\n",
      "['细胞外区的蛋白水解片段', '血浆', 'GH结合蛋白']\n"
     ]
    }
   ],
   "source": [
    "index = random.randint(0, len(ds[\"train\"]))\n",
    "text = ds[\"train\"][index][\"text\"]\n",
    "answer = ds[\"train\"][index][\"entities\"][\"entity_text\"]\n",
    "messages = [\n",
    "    {\n",
    "        \"role\": \"user\",\n",
    "        \"content\": \"请你帮我提取里面的医学实体\" + \"\\n\" + text\n",
    "    }\n",
    "]\n",
    "\n",
    "inputs = tokenizer.apply_chat_template(messages, tokenize=False, add_generation_prompt=True)\n",
    "result = pipe(messages, max_new_tokens=1000, do_sample=False)\n",
    "print(result[0][\"generated_text\"][-1][\"content\"])\n",
    "print(answer)"
   ]
  },
  {
   "cell_type": "code",
   "execution_count": 56,
   "metadata": {},
   "outputs": [
    {
     "name": "stdout",
     "output_type": "stream",
     "text": [
      "以下是文档中的医学实体：\n",
      "\n",
      "1. 艾滋病（HIV）\n",
      "2. 艾滋病病毒（HIV）\n",
      "3. 艾滋病疫苗\n",
      "4. 艾滋病（HIV）\n",
      "5. 乙肝疫苗\n"
     ]
    }
   ],
   "source": [
    "with model.disable_adapter():\n",
    "    # 网络搜索\n",
    "    text = \"艾滋病疫苗，即艾滋病病毒（HIV）疫苗，注射了它便可以在一段时间内防止艾滋病（类似乙肝疫苗的原理）。HIV疫苗被认为是预防艾滋病的最有效工具\"\n",
    "\n",
    "    messages = [\n",
    "        {\n",
    "            \"role\": \"user\",\n",
    "            \"content\": \"请你帮我提取里面的医学实体\" + \"\\n\" + text\n",
    "        }\n",
    "    ]\n",
    "\n",
    "    inputs = tokenizer.apply_chat_template(messages, tokenize=False, add_generation_prompt=True)\n",
    "    result = pipe(messages, max_new_tokens=1000, do_sample=False)\n",
    "    print(result[0][\"generated_text\"][-1][\"content\"])"
   ]
  },
  {
   "cell_type": "code",
   "execution_count": 57,
   "metadata": {},
   "outputs": [
    {
     "name": "stdout",
     "output_type": "stream",
     "text": [
      "在这个句子中，没有明确的医学实体。\n",
      "['TSS', '早期积极的液体供应', '静脉', '免疫球蛋白', '糖皮质激素']\n"
     ]
    }
   ],
   "source": [
    "with model.disable_adapter():\n",
    "    index = random.randint(0, len(ds[\"test\"]))\n",
    "    text = ds[\"test\"][index][\"text\"]\n",
    "    answer = ds[\"test\"][index][\"entities\"][\"entity_text\"]\n",
    "    messages = [\n",
    "        {\n",
    "            \"role\": \"user\",\n",
    "            \"content\": \"请你帮我提取里面的医学实体\" + \"\\n\" + text\n",
    "        }\n",
    "    ]\n",
    "\n",
    "    inputs = tokenizer.apply_chat_template(messages, tokenize=False, add_generation_prompt=True)\n",
    "    result = pipe(messages, max_new_tokens=1000, do_sample=False)\n",
    "    print(result[0][\"generated_text\"][-1][\"content\"])\n",
    "    print(answer)"
   ]
  },
  {
   "cell_type": "code",
   "execution_count": 58,
   "metadata": {},
   "outputs": [
    {
     "name": "stdout",
     "output_type": "stream",
     "text": [
      "在这个文本中，没有明确提到具体的医学实体。不过，可以提取出一些与疾病和治疗方法相关的词汇：\n",
      "\n",
      "- 疟疾：这是一种传染病。\n",
      "- 发作：指疾病的发作或出现。\n",
      "\n",
      "这些词汇可能涉及到医疗领域中的概念，但它们并不是具体的医学实体。在实际应用中，需要更详细的信息来准确识别和提取医学实体。\n",
      "['基因工程', '重组的蛋白质或多肽作为抗原诊断疟疾', '卧床休息', '进食营养丰富、富含维生素、易消化的食物']\n"
     ]
    }
   ],
   "source": [
    "with model.disable_adapter():\n",
    "    index = random.randint(0, len(ds[\"train\"]))\n",
    "    text = ds[\"train\"][index][\"text\"]\n",
    "    answer = ds[\"train\"][index][\"entities\"][\"entity_text\"]\n",
    "    messages = [\n",
    "        {\n",
    "            \"role\": \"user\",\n",
    "            \"content\": \"请你帮我提取里面的医学实体\" + \"\\n\" + text\n",
    "        }\n",
    "    ]\n",
    "\n",
    "    inputs = tokenizer.apply_chat_template(messages, tokenize=False, add_generation_prompt=True)\n",
    "    result = pipe(messages, max_new_tokens=1000, do_sample=False)\n",
    "    print(result[0][\"generated_text\"][-1][\"content\"])\n",
    "    print(answer)"
   ]
  },
  {
   "cell_type": "code",
   "execution_count": null,
   "metadata": {},
   "outputs": [],
   "source": []
  }
 ],
 "metadata": {
  "kernelspec": {
   "display_name": "global_env",
   "language": "python",
   "name": "python3"
  },
  "language_info": {
   "codemirror_mode": {
    "name": "ipython",
    "version": 3
   },
   "file_extension": ".py",
   "mimetype": "text/x-python",
   "name": "python",
   "nbconvert_exporter": "python",
   "pygments_lexer": "ipython3",
   "version": "3.12.8"
  }
 },
 "nbformat": 4,
 "nbformat_minor": 2
}
