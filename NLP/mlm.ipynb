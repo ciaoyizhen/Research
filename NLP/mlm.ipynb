{
 "cells": [
  {
   "cell_type": "markdown",
   "metadata": {},
   "source": [
    "先简单测试一下效果"
   ]
  },
  {
   "cell_type": "code",
   "execution_count": 1,
   "metadata": {},
   "outputs": [],
   "source": [
    "from transformers import pipeline, AutoTokenizer, AutoModelForMaskedLM, BertConfig, BertForMaskedLM\n",
    "\n",
    "checkpoint = \"google-bert/bert-base-chinese\"\n",
    "tokenizer = AutoTokenizer.from_pretrained(checkpoint)"
   ]
  },
  {
   "cell_type": "code",
   "execution_count": null,
   "metadata": {},
   "outputs": [],
   "source": [
    "fine_tuned_model = AutoModelForMaskedLM.from_pretrained(checkpoint)\n",
    "un_fine_tuned_model = BertForMaskedLM(BertConfig(tokenizer.vocab_size))"
   ]
  },
  {
   "cell_type": "code",
   "execution_count": null,
   "metadata": {},
   "outputs": [],
   "source": [
    "text = \"有人问一位智者：“我觉得自己很有能力，可为什么没人[MASK]赏我呢？”智者随手捡起一块石头向远处扔去，接着叫他去捡回来，他说做不到。\"\n",
    "\n",
    "pipe = pipeline(\"fill-mask\", fine_tuned_model, tokenizer=tokenizer, device=0)\n",
    "result = pipe(text, top_k=1)\n",
    "print(result[0][\"sequence\"])"
   ]
  },
  {
   "cell_type": "code",
   "execution_count": null,
   "metadata": {},
   "outputs": [],
   "source": [
    "text = \"有人问一位智者：“我觉得自己很有能力，可为什么没人[MASK]赏我呢？”智者随手捡起一块石头向远处扔去，接着叫他去捡回来，他说做不到。\"\n",
    "\n",
    "pipe = pipeline(\"fill-mask\", un_fine_tuned_model, tokenizer=tokenizer, device=0)\n",
    "result = pipe(text, top_k=1)\n",
    "print(result[0][\"sequence\"])"
   ]
  },
  {
   "cell_type": "markdown",
   "metadata": {},
   "source": [
    "# 开始训练这个模型"
   ]
  },
  {
   "cell_type": "code",
   "execution_count": 1,
   "metadata": {},
   "outputs": [],
   "source": [
    "from datasets import load_dataset\n",
    "from transformers import AutoModelForMaskedLM, AutoTokenizer, Trainer, TrainingArguments, DataCollatorForLanguageModeling, BertForMaskedLM, BertConfig"
   ]
  },
  {
   "cell_type": "code",
   "execution_count": null,
   "metadata": {},
   "outputs": [],
   "source": [
    "from datasets import load_dataset\n",
    "\n",
    "ds = load_dataset(\"shaowenchen/wiki_zh\")\n",
    "print(ds)"
   ]
  },
  {
   "cell_type": "code",
   "execution_count": null,
   "metadata": {},
   "outputs": [],
   "source": [
    "ds[\"train\"][42][\"text\"][:200]"
   ]
  },
  {
   "cell_type": "code",
   "execution_count": null,
   "metadata": {},
   "outputs": [],
   "source": [
    "ds = ds[\"train\"].train_test_split(test_size=10, shuffle=True, seed=42)\n",
    "ds"
   ]
  },
  {
   "cell_type": "code",
   "execution_count": null,
   "metadata": {},
   "outputs": [],
   "source": [
    "checkpoint = \"google-bert/bert-base-chinese\"\n",
    "model = BertForMaskedLM(BertConfig(vocab_size=21128))\n",
    "tokenizer = AutoTokenizer.from_pretrained(checkpoint)"
   ]
  },
  {
   "cell_type": "code",
   "execution_count": 6,
   "metadata": {},
   "outputs": [],
   "source": [
    "def processFunciton(examples):\n",
    "    return tokenizer(examples[\"text\"], truncation=True)"
   ]
  },
  {
   "cell_type": "code",
   "execution_count": null,
   "metadata": {},
   "outputs": [],
   "source": [
    "ds = ds.map(processFunciton, batched=True, remove_columns=ds[\"train\"].column_names)\n",
    "ds"
   ]
  },
  {
   "cell_type": "code",
   "execution_count": 8,
   "metadata": {},
   "outputs": [],
   "source": [
    "args = TrainingArguments(\n",
    "    output_dir=\"output/mlm_pretrained\",\n",
    "    per_device_train_batch_size=24,\n",
    "    fp16=True,\n",
    "    max_steps=10000,\n",
    "    save_strategy=\"steps\",\n",
    "    save_steps=500,\n",
    "    save_total_limit=3,\n",
    "    logging_steps=10,\n",
    "    learning_rate=1e-4,\n",
    "    warmup_steps=1000\n",
    ")"
   ]
  },
  {
   "cell_type": "code",
   "execution_count": null,
   "metadata": {},
   "outputs": [],
   "source": [
    "trainer = Trainer(\n",
    "    model=model,\n",
    "    args=args,\n",
    "    data_collator=DataCollatorForLanguageModeling(tokenizer),\n",
    "    train_dataset=ds[\"train\"],\n",
    "    eval_dataset=ds[\"test\"],\n",
    "    processing_class=tokenizer\n",
    ")"
   ]
  },
  {
   "cell_type": "code",
   "execution_count": null,
   "metadata": {},
   "outputs": [],
   "source": [
    "trainer.train()"
   ]
  },
  {
   "cell_type": "markdown",
   "metadata": {},
   "source": [
    "# 验证训练效果"
   ]
  },
  {
   "cell_type": "code",
   "execution_count": 1,
   "metadata": {},
   "outputs": [],
   "source": [
    "from transformers import pipeline, AutoTokenizer, AutoModelForMaskedLM"
   ]
  },
  {
   "cell_type": "code",
   "execution_count": null,
   "metadata": {},
   "outputs": [],
   "source": [
    "checkpoint = \"google-bert/bert-base-chinese\"\n",
    "tokenizer = AutoTokenizer.from_pretrained(checkpoint)\n",
    "un_fine_tuned_model = AutoModelForMaskedLM.from_pretrained(\"output/mlm_pretrained/checkpoint-10000\")\n",
    "\n",
    "\n",
    "text = \"有人问一位智者：“我觉得自己很有能力，可为什么没人[MASK]赏我呢？”智者随手捡起一块石头向远处扔去，接着叫他去捡回来，他说做不到。\"\n",
    "\n",
    "pipe = pipeline(\"fill-mask\", un_fine_tuned_model, tokenizer=tokenizer, device=0)\n",
    "result = pipe(text, top_k=1)\n",
    "print(result[0][\"sequence\"])"
   ]
  }
 ],
 "metadata": {
  "kernelspec": {
   "display_name": ".venv",
   "language": "python",
   "name": "python3"
  },
  "language_info": {
   "codemirror_mode": {
    "name": "ipython",
    "version": 3
   },
   "file_extension": ".py",
   "mimetype": "text/x-python",
   "name": "python",
   "nbconvert_exporter": "python",
   "pygments_lexer": "ipython3",
   "version": "3.12.3"
  }
 },
 "nbformat": 4,
 "nbformat_minor": 2
}
